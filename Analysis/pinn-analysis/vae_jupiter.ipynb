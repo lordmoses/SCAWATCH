{
 "cells": [
  {
   "cell_type": "code",
   "execution_count": 71,
   "id": "ace1490b-d2ad-4265-81e8-51b860c1069a",
   "metadata": {},
   "outputs": [],
   "source": [
    "import numpy as np\n",
    "import pandas as pd\n",
    "import os\n",
    "import tensorflow as tf\n",
    "from tensorflow import keras\n",
    "from tensorflow.keras import layers\n",
    "from sklearn.preprocessing import StandardScaler\n",
    "from sklearn.metrics import accuracy_score, precision_score, recall_score, f1_score, confusion_matrix\n",
    "from vae_methods import *\n",
    "from fpfn import function\n",
    "import seaborn as sns\n",
    "from IPython import display"
   ]
  },
  {
   "cell_type": "markdown",
   "id": "e4bf3d84-5e4a-44c0-a7c0-7d48529e1c97",
   "metadata": {
    "tags": []
   },
   "source": [
    "# Reading in the data. \n",
    "## For training, we combined several files which had no attacks and for testing we used a single file where there were attacks and no attacks.\n",
    "## The training data has 157579 datapoints and testing data has 1924 datapoints, out of which 956 are instances without attacks and 968 are instances with attacks"
   ]
  },
  {
   "cell_type": "code",
   "execution_count": 2,
   "id": "f1e6e695-a1ed-4684-b350-7642a041435a",
   "metadata": {},
   "outputs": [],
   "source": [
    "train = pd.read_csv('Level Control CSVs/Combined.csv')\n",
    "train.drop([\"millis\"], axis = 1, inplace = True)"
   ]
  },
  {
   "cell_type": "code",
   "execution_count": 3,
   "id": "f05d263b-799e-4f84-bc36-42bb4587272e",
   "metadata": {},
   "outputs": [],
   "source": [
    "test = pd.read_csv('2022-1-26--14-18-55_CycleValues.csv')\n",
    "test.drop(['millis'], axis = 1, inplace = True)"
   ]
  },
  {
   "cell_type": "code",
   "execution_count": 4,
   "id": "e094b0c7-a605-4c13-ad6a-d10b7925bee9",
   "metadata": {},
   "outputs": [
    {
     "data": {
      "text/html": [
       "<div>\n",
       "<style scoped>\n",
       "    .dataframe tbody tr th:only-of-type {\n",
       "        vertical-align: middle;\n",
       "    }\n",
       "\n",
       "    .dataframe tbody tr th {\n",
       "        vertical-align: top;\n",
       "    }\n",
       "\n",
       "    .dataframe thead th {\n",
       "        text-align: right;\n",
       "    }\n",
       "</style>\n",
       "<table border=\"1\" class=\"dataframe\">\n",
       "  <thead>\n",
       "    <tr style=\"text-align: right;\">\n",
       "      <th></th>\n",
       "      <th>Start</th>\n",
       "      <th>Stop</th>\n",
       "      <th>Reset</th>\n",
       "      <th>'FACTORY I/O (Running)'</th>\n",
       "      <th>'FACTORY I/O (Paused)'</th>\n",
       "      <th>'FACTORY I/O (Reset)'</th>\n",
       "      <th>'Level meter'</th>\n",
       "      <th>'Flow meter'</th>\n",
       "      <th>Setpoint</th>\n",
       "      <th>'FACTORY I/O (Time Scale)'</th>\n",
       "      <th>...</th>\n",
       "      <th>'Stop light'</th>\n",
       "      <th>'Reset light'</th>\n",
       "      <th>'FACTORY I/O (Run)'</th>\n",
       "      <th>'FACTORY I/O (Pause)'</th>\n",
       "      <th>'FACTORY I/O (Reset1)'</th>\n",
       "      <th>'Fill valve'</th>\n",
       "      <th>'Discharge valve'</th>\n",
       "      <th>SP</th>\n",
       "      <th>PV</th>\n",
       "      <th>'FACTORY I/O (Camera Position)'</th>\n",
       "    </tr>\n",
       "  </thead>\n",
       "  <tbody>\n",
       "    <tr>\n",
       "      <th>0</th>\n",
       "      <td>0</td>\n",
       "      <td>1</td>\n",
       "      <td>0</td>\n",
       "      <td>1</td>\n",
       "      <td>0</td>\n",
       "      <td>0</td>\n",
       "      <td>0.0</td>\n",
       "      <td>0.0</td>\n",
       "      <td>0.0</td>\n",
       "      <td>0.2</td>\n",
       "      <td>...</td>\n",
       "      <td>0</td>\n",
       "      <td>0</td>\n",
       "      <td>1</td>\n",
       "      <td>0</td>\n",
       "      <td>0</td>\n",
       "      <td>0.0</td>\n",
       "      <td>0.0</td>\n",
       "      <td>0</td>\n",
       "      <td>0</td>\n",
       "      <td>0</td>\n",
       "    </tr>\n",
       "    <tr>\n",
       "      <th>1</th>\n",
       "      <td>0</td>\n",
       "      <td>1</td>\n",
       "      <td>0</td>\n",
       "      <td>1</td>\n",
       "      <td>0</td>\n",
       "      <td>0</td>\n",
       "      <td>0.0</td>\n",
       "      <td>0.0</td>\n",
       "      <td>0.0</td>\n",
       "      <td>0.2</td>\n",
       "      <td>...</td>\n",
       "      <td>0</td>\n",
       "      <td>0</td>\n",
       "      <td>1</td>\n",
       "      <td>0</td>\n",
       "      <td>0</td>\n",
       "      <td>0.0</td>\n",
       "      <td>0.0</td>\n",
       "      <td>0</td>\n",
       "      <td>0</td>\n",
       "      <td>0</td>\n",
       "    </tr>\n",
       "    <tr>\n",
       "      <th>2</th>\n",
       "      <td>0</td>\n",
       "      <td>1</td>\n",
       "      <td>0</td>\n",
       "      <td>1</td>\n",
       "      <td>0</td>\n",
       "      <td>0</td>\n",
       "      <td>0.0</td>\n",
       "      <td>0.0</td>\n",
       "      <td>0.0</td>\n",
       "      <td>0.2</td>\n",
       "      <td>...</td>\n",
       "      <td>0</td>\n",
       "      <td>0</td>\n",
       "      <td>1</td>\n",
       "      <td>0</td>\n",
       "      <td>0</td>\n",
       "      <td>0.0</td>\n",
       "      <td>0.0</td>\n",
       "      <td>0</td>\n",
       "      <td>0</td>\n",
       "      <td>0</td>\n",
       "    </tr>\n",
       "    <tr>\n",
       "      <th>3</th>\n",
       "      <td>0</td>\n",
       "      <td>1</td>\n",
       "      <td>0</td>\n",
       "      <td>1</td>\n",
       "      <td>0</td>\n",
       "      <td>0</td>\n",
       "      <td>0.0</td>\n",
       "      <td>0.0</td>\n",
       "      <td>0.0</td>\n",
       "      <td>0.2</td>\n",
       "      <td>...</td>\n",
       "      <td>0</td>\n",
       "      <td>0</td>\n",
       "      <td>1</td>\n",
       "      <td>0</td>\n",
       "      <td>0</td>\n",
       "      <td>0.0</td>\n",
       "      <td>0.0</td>\n",
       "      <td>0</td>\n",
       "      <td>0</td>\n",
       "      <td>0</td>\n",
       "    </tr>\n",
       "    <tr>\n",
       "      <th>4</th>\n",
       "      <td>0</td>\n",
       "      <td>1</td>\n",
       "      <td>0</td>\n",
       "      <td>1</td>\n",
       "      <td>0</td>\n",
       "      <td>0</td>\n",
       "      <td>0.0</td>\n",
       "      <td>0.0</td>\n",
       "      <td>0.0</td>\n",
       "      <td>0.2</td>\n",
       "      <td>...</td>\n",
       "      <td>0</td>\n",
       "      <td>0</td>\n",
       "      <td>1</td>\n",
       "      <td>0</td>\n",
       "      <td>0</td>\n",
       "      <td>0.0</td>\n",
       "      <td>0.0</td>\n",
       "      <td>0</td>\n",
       "      <td>0</td>\n",
       "      <td>0</td>\n",
       "    </tr>\n",
       "  </tbody>\n",
       "</table>\n",
       "<p>5 rows × 21 columns</p>\n",
       "</div>"
      ],
      "text/plain": [
       "   Start  Stop  Reset  'FACTORY I/O (Running)'  'FACTORY I/O (Paused)'  \\\n",
       "0      0     1      0                        1                       0   \n",
       "1      0     1      0                        1                       0   \n",
       "2      0     1      0                        1                       0   \n",
       "3      0     1      0                        1                       0   \n",
       "4      0     1      0                        1                       0   \n",
       "\n",
       "   'FACTORY I/O (Reset)'  'Level meter'  'Flow meter'  Setpoint  \\\n",
       "0                      0            0.0           0.0       0.0   \n",
       "1                      0            0.0           0.0       0.0   \n",
       "2                      0            0.0           0.0       0.0   \n",
       "3                      0            0.0           0.0       0.0   \n",
       "4                      0            0.0           0.0       0.0   \n",
       "\n",
       "   'FACTORY I/O (Time Scale)'  ...  'Stop light'  'Reset light'  \\\n",
       "0                         0.2  ...             0              0   \n",
       "1                         0.2  ...             0              0   \n",
       "2                         0.2  ...             0              0   \n",
       "3                         0.2  ...             0              0   \n",
       "4                         0.2  ...             0              0   \n",
       "\n",
       "   'FACTORY I/O (Run)'  'FACTORY I/O (Pause)'  'FACTORY I/O (Reset1)'  \\\n",
       "0                    1                      0                       0   \n",
       "1                    1                      0                       0   \n",
       "2                    1                      0                       0   \n",
       "3                    1                      0                       0   \n",
       "4                    1                      0                       0   \n",
       "\n",
       "   'Fill valve'  'Discharge valve'  SP  PV  'FACTORY I/O (Camera Position)'  \n",
       "0           0.0                0.0   0   0                                0  \n",
       "1           0.0                0.0   0   0                                0  \n",
       "2           0.0                0.0   0   0                                0  \n",
       "3           0.0                0.0   0   0                                0  \n",
       "4           0.0                0.0   0   0                                0  \n",
       "\n",
       "[5 rows x 21 columns]"
      ]
     },
     "execution_count": 4,
     "metadata": {},
     "output_type": "execute_result"
    }
   ],
   "source": [
    "train.head()"
   ]
  },
  {
   "cell_type": "code",
   "execution_count": 5,
   "id": "ebd3181a-0d7f-4071-9ac1-07f4a6a1fbd2",
   "metadata": {},
   "outputs": [
    {
     "data": {
      "text/html": [
       "<div>\n",
       "<style scoped>\n",
       "    .dataframe tbody tr th:only-of-type {\n",
       "        vertical-align: middle;\n",
       "    }\n",
       "\n",
       "    .dataframe tbody tr th {\n",
       "        vertical-align: top;\n",
       "    }\n",
       "\n",
       "    .dataframe thead th {\n",
       "        text-align: right;\n",
       "    }\n",
       "</style>\n",
       "<table border=\"1\" class=\"dataframe\">\n",
       "  <thead>\n",
       "    <tr style=\"text-align: right;\">\n",
       "      <th></th>\n",
       "      <th>Start</th>\n",
       "      <th>Stop</th>\n",
       "      <th>Reset</th>\n",
       "      <th>'FACTORY I/O (Running)'</th>\n",
       "      <th>'FACTORY I/O (Paused)'</th>\n",
       "      <th>'FACTORY I/O (Reset)'</th>\n",
       "      <th>'Level meter'</th>\n",
       "      <th>'Flow meter'</th>\n",
       "      <th>Setpoint</th>\n",
       "      <th>'FACTORY I/O (Time Scale)'</th>\n",
       "      <th>...</th>\n",
       "      <th>'Reset light'</th>\n",
       "      <th>'FACTORY I/O (Run)'</th>\n",
       "      <th>'FACTORY I/O (Pause)'</th>\n",
       "      <th>'FACTORY I/O (Reset1)'</th>\n",
       "      <th>'Fill valve'</th>\n",
       "      <th>'Discharge valve'</th>\n",
       "      <th>SP</th>\n",
       "      <th>PV</th>\n",
       "      <th>'FACTORY I/O (Camera Position)'</th>\n",
       "      <th>attack</th>\n",
       "    </tr>\n",
       "  </thead>\n",
       "  <tbody>\n",
       "    <tr>\n",
       "      <th>0</th>\n",
       "      <td>0</td>\n",
       "      <td>1</td>\n",
       "      <td>0</td>\n",
       "      <td>1</td>\n",
       "      <td>0</td>\n",
       "      <td>0</td>\n",
       "      <td>0.0</td>\n",
       "      <td>0.0</td>\n",
       "      <td>0.0</td>\n",
       "      <td>1</td>\n",
       "      <td>...</td>\n",
       "      <td>0</td>\n",
       "      <td>1</td>\n",
       "      <td>0</td>\n",
       "      <td>0</td>\n",
       "      <td>0.0</td>\n",
       "      <td>0.0</td>\n",
       "      <td>0</td>\n",
       "      <td>0</td>\n",
       "      <td>0</td>\n",
       "      <td>0</td>\n",
       "    </tr>\n",
       "    <tr>\n",
       "      <th>1</th>\n",
       "      <td>0</td>\n",
       "      <td>1</td>\n",
       "      <td>0</td>\n",
       "      <td>1</td>\n",
       "      <td>0</td>\n",
       "      <td>0</td>\n",
       "      <td>0.0</td>\n",
       "      <td>0.0</td>\n",
       "      <td>0.0</td>\n",
       "      <td>1</td>\n",
       "      <td>...</td>\n",
       "      <td>0</td>\n",
       "      <td>1</td>\n",
       "      <td>0</td>\n",
       "      <td>0</td>\n",
       "      <td>0.0</td>\n",
       "      <td>0.0</td>\n",
       "      <td>0</td>\n",
       "      <td>0</td>\n",
       "      <td>0</td>\n",
       "      <td>0</td>\n",
       "    </tr>\n",
       "    <tr>\n",
       "      <th>2</th>\n",
       "      <td>0</td>\n",
       "      <td>1</td>\n",
       "      <td>0</td>\n",
       "      <td>1</td>\n",
       "      <td>0</td>\n",
       "      <td>0</td>\n",
       "      <td>0.0</td>\n",
       "      <td>0.0</td>\n",
       "      <td>0.0</td>\n",
       "      <td>1</td>\n",
       "      <td>...</td>\n",
       "      <td>0</td>\n",
       "      <td>1</td>\n",
       "      <td>0</td>\n",
       "      <td>0</td>\n",
       "      <td>0.0</td>\n",
       "      <td>0.0</td>\n",
       "      <td>0</td>\n",
       "      <td>0</td>\n",
       "      <td>0</td>\n",
       "      <td>0</td>\n",
       "    </tr>\n",
       "    <tr>\n",
       "      <th>3</th>\n",
       "      <td>0</td>\n",
       "      <td>1</td>\n",
       "      <td>0</td>\n",
       "      <td>1</td>\n",
       "      <td>0</td>\n",
       "      <td>0</td>\n",
       "      <td>0.0</td>\n",
       "      <td>0.0</td>\n",
       "      <td>0.0</td>\n",
       "      <td>1</td>\n",
       "      <td>...</td>\n",
       "      <td>0</td>\n",
       "      <td>1</td>\n",
       "      <td>0</td>\n",
       "      <td>0</td>\n",
       "      <td>0.0</td>\n",
       "      <td>0.0</td>\n",
       "      <td>0</td>\n",
       "      <td>0</td>\n",
       "      <td>0</td>\n",
       "      <td>0</td>\n",
       "    </tr>\n",
       "    <tr>\n",
       "      <th>4</th>\n",
       "      <td>0</td>\n",
       "      <td>1</td>\n",
       "      <td>0</td>\n",
       "      <td>1</td>\n",
       "      <td>0</td>\n",
       "      <td>0</td>\n",
       "      <td>0.0</td>\n",
       "      <td>0.0</td>\n",
       "      <td>0.0</td>\n",
       "      <td>1</td>\n",
       "      <td>...</td>\n",
       "      <td>0</td>\n",
       "      <td>1</td>\n",
       "      <td>0</td>\n",
       "      <td>0</td>\n",
       "      <td>0.0</td>\n",
       "      <td>0.0</td>\n",
       "      <td>0</td>\n",
       "      <td>0</td>\n",
       "      <td>0</td>\n",
       "      <td>0</td>\n",
       "    </tr>\n",
       "  </tbody>\n",
       "</table>\n",
       "<p>5 rows × 22 columns</p>\n",
       "</div>"
      ],
      "text/plain": [
       "   Start  Stop  Reset  'FACTORY I/O (Running)'  'FACTORY I/O (Paused)'  \\\n",
       "0      0     1      0                        1                       0   \n",
       "1      0     1      0                        1                       0   \n",
       "2      0     1      0                        1                       0   \n",
       "3      0     1      0                        1                       0   \n",
       "4      0     1      0                        1                       0   \n",
       "\n",
       "   'FACTORY I/O (Reset)'  'Level meter'  'Flow meter'  Setpoint  \\\n",
       "0                      0            0.0           0.0       0.0   \n",
       "1                      0            0.0           0.0       0.0   \n",
       "2                      0            0.0           0.0       0.0   \n",
       "3                      0            0.0           0.0       0.0   \n",
       "4                      0            0.0           0.0       0.0   \n",
       "\n",
       "   'FACTORY I/O (Time Scale)'  ...  'Reset light'  'FACTORY I/O (Run)'  \\\n",
       "0                           1  ...              0                    1   \n",
       "1                           1  ...              0                    1   \n",
       "2                           1  ...              0                    1   \n",
       "3                           1  ...              0                    1   \n",
       "4                           1  ...              0                    1   \n",
       "\n",
       "   'FACTORY I/O (Pause)'  'FACTORY I/O (Reset1)'  'Fill valve'  \\\n",
       "0                      0                       0           0.0   \n",
       "1                      0                       0           0.0   \n",
       "2                      0                       0           0.0   \n",
       "3                      0                       0           0.0   \n",
       "4                      0                       0           0.0   \n",
       "\n",
       "   'Discharge valve'  SP  PV  'FACTORY I/O (Camera Position)'  attack  \n",
       "0                0.0   0   0                                0       0  \n",
       "1                0.0   0   0                                0       0  \n",
       "2                0.0   0   0                                0       0  \n",
       "3                0.0   0   0                                0       0  \n",
       "4                0.0   0   0                                0       0  \n",
       "\n",
       "[5 rows x 22 columns]"
      ]
     },
     "execution_count": 5,
     "metadata": {},
     "output_type": "execute_result"
    }
   ],
   "source": [
    "test.head()"
   ]
  },
  {
   "cell_type": "markdown",
   "id": "39075d90-36f8-4b95-bd4a-076fb181fccc",
   "metadata": {
    "tags": []
   },
   "source": [
    "## Our training dataframe doesn't have the label column. However, since we know that all datapoints are instances without attacks we set the label of all the datapoints as 0"
   ]
  },
  {
   "cell_type": "code",
   "execution_count": 6,
   "id": "52a7d0a1-8868-4401-9d5a-a1c96e4938bc",
   "metadata": {},
   "outputs": [],
   "source": [
    "train['attack'] = train.shape[0] * [0]"
   ]
  },
  {
   "cell_type": "markdown",
   "id": "65f12e28-2300-4a12-a0f6-a7a10e601007",
   "metadata": {},
   "source": [
    "## Several columns in our data are static, i.e. the values in the column remain the same throughout the entire data. We will drop these static columns to reduce dimensionality.  \n",
    "## We also try to find categorical columns, so we can apply one-hot encoding to them. All other columns are numerical, so we apply scaling to them."
   ]
  },
  {
   "cell_type": "code",
   "execution_count": 7,
   "id": "bcd64454-2936-41fe-990f-b6b7481a919a",
   "metadata": {},
   "outputs": [
    {
     "data": {
      "text/plain": [
       "(157579, 22)"
      ]
     },
     "execution_count": 7,
     "metadata": {},
     "output_type": "execute_result"
    }
   ],
   "source": [
    "train.shape"
   ]
  },
  {
   "cell_type": "code",
   "execution_count": 8,
   "id": "8c1f5399-0a28-4fa8-a361-be7bf277dd85",
   "metadata": {},
   "outputs": [
    {
     "data": {
      "text/plain": [
       "(1924, 22)"
      ]
     },
     "execution_count": 8,
     "metadata": {},
     "output_type": "execute_result"
    }
   ],
   "source": [
    "test.shape"
   ]
  },
  {
   "cell_type": "code",
   "execution_count": 9,
   "id": "a236ffef-e3f3-496a-89ee-d5270b891ef4",
   "metadata": {},
   "outputs": [
    {
     "name": "stdout",
     "output_type": "stream",
     "text": [
      "Start\n",
      "Min: 0\n",
      "Max: 0\n",
      "\n",
      "Stop\n",
      "Min: 1\n",
      "Max: 1\n",
      "\n",
      "Reset\n",
      "Min: 0\n",
      "Max: 0\n",
      "\n",
      "'FACTORY I/O (Running)'\n",
      "Min: 1\n",
      "Max: 1\n",
      "\n",
      "'FACTORY I/O (Paused)'\n",
      "Min: 0\n",
      "Max: 0\n",
      "\n",
      "'FACTORY I/O (Reset)'\n",
      "Min: 0\n",
      "Max: 0\n",
      "\n",
      "'Level meter'\n",
      "Min: 0.0\n",
      "Max: 6.605333\n",
      "\n",
      "'Flow meter'\n",
      "Min: 0.0\n",
      "Max: 3.146235\n",
      "\n",
      "Setpoint\n",
      "Min: 0.0\n",
      "Max: 5.965183\n",
      "\n",
      "'FACTORY I/O (Time Scale)'\n",
      "Min: 0.2\n",
      "Max: 1.0\n",
      "\n",
      "'Start light'\n",
      "Min: 0\n",
      "Max: 0\n",
      "\n",
      "'Stop light'\n",
      "Min: 0\n",
      "Max: 0\n",
      "\n",
      "'Reset light'\n",
      "Min: 0\n",
      "Max: 0\n",
      "\n",
      "'FACTORY I/O (Run)'\n",
      "Min: 1\n",
      "Max: 1\n",
      "\n",
      "'FACTORY I/O (Pause)'\n",
      "Min: 0\n",
      "Max: 0\n",
      "\n",
      "'FACTORY I/O (Reset1)'\n",
      "Min: 0\n",
      "Max: 0\n",
      "\n",
      "'Fill valve'\n",
      "Min: 0.0\n",
      "Max: 10.0\n",
      "\n",
      "'Discharge valve'\n",
      "Min: 0.0\n",
      "Max: 4.0\n",
      "\n",
      "SP\n",
      "Min: 0\n",
      "Max: 178\n",
      "\n",
      "PV\n",
      "Min: 0\n",
      "Max: 198\n",
      "\n",
      "'FACTORY I/O (Camera Position)'\n",
      "Min: 0\n",
      "Max: 0\n",
      "\n",
      "attack\n",
      "Min: 0\n",
      "Max: 0\n",
      "\n"
     ]
    }
   ],
   "source": [
    "for cols in train.columns:\n",
    "    print(cols)\n",
    "    print(\"Min:\",train[cols].min())\n",
    "    print(\"Max:\",train[cols].max())\n",
    "    print()"
   ]
  },
  {
   "cell_type": "markdown",
   "id": "d7356895-d5cf-4b8d-ac85-668072c54025",
   "metadata": {},
   "source": [
    "## We find static columns by finding the columns whose maximum value is equal to the minimum value. There are 13 such static columns other than our label column.\n",
    "## Categorical columns are found by checking number of unique values in a column. If the number of unique values is between 2 and a threshold (we set it as 5) we consider that column as categorical, if the number of unique values are greater than 5, then we consider it as a numerical column. We found no categorical columns in this dataset."
   ]
  },
  {
   "cell_type": "code",
   "execution_count": 10,
   "id": "70efe950-70c4-480c-82e5-02ade15e3a8a",
   "metadata": {},
   "outputs": [],
   "source": [
    "static_columns = []\n",
    "\n",
    "for column in train.columns:\n",
    "    if train[column].max() == train[column].min():\n",
    "        static_columns.append(column)\n",
    "        \n",
    "def check_categorical(dataframe, threshold):\n",
    "    \n",
    "    categorical_columns = {}\n",
    "\n",
    "    for cols in dataframe.columns:\n",
    "        \n",
    "        if dataframe[cols].nunique() in range(2,threshold):\n",
    "            \n",
    "            categorical_columns[cols] = dataframe[cols].nunique()\n",
    "\n",
    "    return categorical_columns\n"
   ]
  },
  {
   "cell_type": "code",
   "execution_count": 11,
   "id": "e472a56f-8487-4081-81e1-fef38ccc9eeb",
   "metadata": {},
   "outputs": [
    {
     "name": "stdout",
     "output_type": "stream",
     "text": [
      "['Start', 'Stop', 'Reset', \"'FACTORY I/O (Running)'\", \"'FACTORY I/O (Paused)'\", \"'FACTORY I/O (Reset)'\", \"'Start light'\", \"'Stop light'\", \"'Reset light'\", \"'FACTORY I/O (Run)'\", \"'FACTORY I/O (Pause)'\", \"'FACTORY I/O (Reset1)'\", \"'FACTORY I/O (Camera Position)'\", 'attack']\n"
     ]
    }
   ],
   "source": [
    "print(static_columns)"
   ]
  },
  {
   "cell_type": "code",
   "execution_count": 12,
   "id": "8d021659-0d9c-4116-acb4-2bb7380662bd",
   "metadata": {},
   "outputs": [
    {
     "data": {
      "text/plain": [
       "14"
      ]
     },
     "execution_count": 12,
     "metadata": {},
     "output_type": "execute_result"
    }
   ],
   "source": [
    "len(static_columns)"
   ]
  },
  {
   "cell_type": "code",
   "execution_count": 13,
   "id": "dfafc1ef-a208-4778-ab3c-f46157074c4b",
   "metadata": {},
   "outputs": [],
   "source": [
    "categorical_columns = check_categorical(train,5)"
   ]
  },
  {
   "cell_type": "code",
   "execution_count": 14,
   "id": "6a6ba1b6-da09-45a4-b97d-a07bf8e34d5f",
   "metadata": {},
   "outputs": [
    {
     "data": {
      "text/plain": [
       "{}"
      ]
     },
     "execution_count": 14,
     "metadata": {},
     "output_type": "execute_result"
    }
   ],
   "source": [
    "categorical_columns"
   ]
  },
  {
   "cell_type": "code",
   "execution_count": 15,
   "id": "4b7e610f-706e-481d-9504-207b4819f752",
   "metadata": {},
   "outputs": [],
   "source": [
    "label_column = ['attack']"
   ]
  },
  {
   "cell_type": "code",
   "execution_count": 16,
   "id": "cdc6f1a9-8c36-4263-b2a9-e04282f7db22",
   "metadata": {},
   "outputs": [],
   "source": [
    "numerical_columns = list(set(train.columns) - set(static_columns + label_column))"
   ]
  },
  {
   "cell_type": "code",
   "execution_count": 17,
   "id": "a20b86d2-c523-43e0-8399-b6047288923c",
   "metadata": {},
   "outputs": [
    {
     "data": {
      "text/plain": [
       "[\"'Flow meter'\",\n",
       " 'PV',\n",
       " \"'Discharge valve'\",\n",
       " \"'Level meter'\",\n",
       " 'Setpoint',\n",
       " \"'Fill valve'\",\n",
       " \"'FACTORY I/O (Time Scale)'\",\n",
       " 'SP']"
      ]
     },
     "execution_count": 17,
     "metadata": {},
     "output_type": "execute_result"
    }
   ],
   "source": [
    "numerical_columns"
   ]
  },
  {
   "cell_type": "markdown",
   "id": "3153d047-0ac5-4c3f-ac4d-1d3d9bf64fda",
   "metadata": {},
   "source": [
    "## In the preprocessing step we drop the static columns and label column. We also apply scaling and return the scaler, so it can be used on the testing data."
   ]
  },
  {
   "cell_type": "code",
   "execution_count": 18,
   "id": "4cc2ca28-f579-4695-9b3a-89b3f40535a3",
   "metadata": {},
   "outputs": [],
   "source": [
    "def preprocess(dataframe, static_columns, label_column, numerical_columns, scaler = None):\n",
    "    \n",
    "    df = dataframe.drop(columns = static_columns + label_column)\n",
    "    labels = dataframe[label_column]\n",
    "    \n",
    "    if scaler:\n",
    "        df = scaler.transform(df)\n",
    "        return df,labels\n",
    "    else:\n",
    "        scaler = StandardScaler()\n",
    "        df = scaler.fit_transform(df)\n",
    "        return df,labels,scaler\n",
    "    "
   ]
  },
  {
   "cell_type": "markdown",
   "id": "ed53f160-b09c-4a2a-aaf6-3f6c43e1b77d",
   "metadata": {},
   "source": [
    "## We convert our data to sequences, since time-series models including transformers work on sequences.\n",
    "## Suppose our data is [1, 2, 3, 4, 5] and the labels are [0, 0, 1, 1, 1], if we choose a sequence size of 2, our training data will be converted into this form:\n",
    "## X = [[1, 2], [2, 3], [3, 4]], y = [1, 1, 1] where x is the data and y are the labels"
   ]
  },
  {
   "cell_type": "code",
   "execution_count": 19,
   "id": "df3ef1b0-7fbc-480b-b9f5-f057ae5e01c4",
   "metadata": {},
   "outputs": [],
   "source": [
    "def to_sequences(x, y, seq_size = 1):\n",
    "    x_vals = []\n",
    "    y_vals = []\n",
    "    \n",
    "    for i in range(len(x) - seq_size):\n",
    "        x_vals.append(x[i : (i+seq_size)])\n",
    "        y_vals.append(y.values[i+seq_size])              \n",
    "        \n",
    "    return np.array(x_vals), np.array(y_vals)"
   ]
  },
  {
   "cell_type": "code",
   "execution_count": 20,
   "id": "447a808f-bf0e-4c86-945c-cc1e09092dc5",
   "metadata": {},
   "outputs": [],
   "source": [
    "x_train, y_train, scaler = preprocess(train, static_columns, label_column, numerical_columns)\n",
    "x_test, y_test = preprocess(test, static_columns, label_column, numerical_columns, scaler)"
   ]
  },
  {
   "cell_type": "markdown",
   "id": "e9009cfa-d962-4668-8c5c-487042373170",
   "metadata": {},
   "source": [
    "## After comparing several sequence sizes, we found sequence size of 2 to produce the best results on this data"
   ]
  },
  {
   "cell_type": "code",
   "execution_count": 21,
   "id": "6f22fe77-2ff2-41a7-8d50-3ea69a0ad3d0",
   "metadata": {},
   "outputs": [],
   "source": [
    "seq_size = 2\n",
    "x_train_seq, y_train_seq = to_sequences(x_train, y_train, seq_size)\n",
    "x_test_seq, y_test_seq = to_sequences(x_test, y_test, seq_size) "
   ]
  },
  {
   "cell_type": "code",
   "execution_count": 22,
   "id": "764cacb8-098b-435c-b117-2a66f34b28f5",
   "metadata": {},
   "outputs": [
    {
     "name": "stdout",
     "output_type": "stream",
     "text": [
      "(157577, 2, 8)\n",
      "(157577, 1)\n"
     ]
    }
   ],
   "source": [
    "print(x_train_seq.shape)\n",
    "print(y_train_seq.shape)"
   ]
  },
  {
   "cell_type": "code",
   "execution_count": 23,
   "id": "4efee5bc-c70b-422e-85c9-037f285f7c7e",
   "metadata": {},
   "outputs": [
    {
     "name": "stdout",
     "output_type": "stream",
     "text": [
      "(1922, 2, 8)\n",
      "(1922, 1)\n"
     ]
    }
   ],
   "source": [
    "print(x_test_seq.shape)\n",
    "print(y_test_seq.shape)"
   ]
  },
  {
   "cell_type": "markdown",
   "id": "1434f181-ce33-41dd-9ab3-069f97e7540d",
   "metadata": {},
   "source": [
    "## Multi head attention is arguably one of the most important parts of the transformer block. It allows attention mechanism to run several times in parallel, which are then concatenated"
   ]
  },
  {
   "cell_type": "code",
   "execution_count": 64,
   "id": "5a32a9d8-693b-4553-b604-556be600554a",
   "metadata": {},
   "outputs": [
    {
     "data": {
      "image/png": "[encoded data removed]",
      "text/plain": [
       "<IPython.core.display.Image object>"
      ]
     },
     "execution_count": 64,
     "metadata": {},
     "output_type": "execute_result"
    }
   ],
   "source": [
    "display.Image(\"multi-head-attention_l1A3G7a..png\")"
   ]
  },
  {
   "cell_type": "code",
   "execution_count": null,
   "id": "7278eb39-0bbe-4228-b12e-1e021d06fc88",
   "metadata": {},
   "outputs": [],
   "source": [
    "def transformer_encoder(inputs, head_size, num_heads, ff_dim, dropout=0):\n",
    "    # Normalization and Attention\n",
    "    x = layers.LayerNormalization(epsilon=1e-6)(inputs)\n",
    "    x = layers.MultiHeadAttention(\n",
    "        key_dim=head_size, num_heads=num_heads, dropout=dropout\n",
    "    )(x, x)\n",
    "    x = layers.Dropout(dropout)(x)\n",
    "    res = x + inputs\n",
    "\n",
    "    # Feed Forward Part\n",
    "    x = layers.LayerNormalization(epsilon=1e-6)(res)\n",
    "    x = layers.Conv1D(filters=ff_dim, kernel_size=1, activation=\"relu\")(x)\n",
    "    x = layers.Dropout(dropout)(x)\n",
    "    x = layers.Conv1D(filters=inputs.shape[-1], kernel_size=1)(x)\n",
    "    return x + res"
   ]
  },
  {
   "cell_type": "code",
   "execution_count": 25,
   "id": "08a0e7e0-f1b5-42b5-b30c-c577abdf5bdc",
   "metadata": {},
   "outputs": [],
   "source": [
    "input_shape = x_train_seq.shape[1:]\n",
    "features = x_train_seq.shape[-1]"
   ]
  },
  {
   "cell_type": "markdown",
   "id": "c786e193-8bfb-4291-824c-292e2e6fe719",
   "metadata": {},
   "source": [
    "## To implement attention in our VAE, we first put in some transformer blocks, after which we apply pooling. Applying pooling helps us to feed the output of the transformer blocks to the fully connected layers. After pooling we have 2 dense layers. This makes up our encoder half. The output of the encoder is mapped into a latent space (bottleneck layer). The output of the latent space is then passed through a repeat vector layer, which just copies the input and concatenates it to itself to increase dimensionality. This is then passed again to transformer blocks. The output of the transformer blocks is passed through 2 Fully connected layers, then we finally arrive at the output layer"
   ]
  },
  {
   "cell_type": "code",
   "execution_count": 26,
   "id": "7a8407c5-5084-4ac7-82be-cdcf47eb9e19",
   "metadata": {},
   "outputs": [],
   "source": [
    "def attention_vae(latent_dim,\n",
    "    input_shape,\n",
    "    head_size,\n",
    "    num_heads,\n",
    "    ff_dim,\n",
    "    num_transformer_blocks):\n",
    "    \n",
    "    inputs = keras.Input(shape = input_shape)\n",
    "    x = inputs\n",
    "    \n",
    "    for _ in range(num_transformer_blocks):\n",
    "        x = transformer_encoder(x, head_size, num_heads, ff_dim)\n",
    "        \n",
    "    x = layers.GlobalAveragePooling1D(data_format=\"channels_first\")(x)\n",
    "    \n",
    "    dense1_vae = layers.Dense(features - 3, activation='relu')(x)\n",
    "\n",
    "    dense2_vae = layers.Dense(features - 5, activation='relu')(dense1_vae)\n",
    "\n",
    "    z_mean = layers.Dense(latent_dim, name=\"z_mean\")(dense2_vae)\n",
    "    z_log_var = layers.Dense(latent_dim, name=\"z_log_var\")(dense2_vae)\n",
    "    z = Sampling()([z_mean, z_log_var])\n",
    "\n",
    "    encoder_vae = keras.Model(inputs=inputs,\n",
    "                            outputs=[z_mean, z_log_var, z],\n",
    "                            name='LSTM_VAE_encoder')\n",
    "\n",
    "    inputs_decoder_vae = keras.Input(shape=(latent_dim,))\n",
    "\n",
    "    repeat_vec = layers.RepeatVector(seq_size)(inputs_decoder_vae)\n",
    "\n",
    "    for i in range(num_transformer_blocks):\n",
    "        if i == 0:\n",
    "            x = transformer_encoder(repeat_vec, head_size, num_heads, ff_dim)\n",
    "        else:\n",
    "            x = transformer_encoder(x, head_size, num_heads, ff_dim)\n",
    "            \n",
    "\n",
    "    dense1_decoder_vae = layers.Dense(features - 3, activation='relu')(x)\n",
    "\n",
    "    dense2_decoder_vae = layers.Dense(features - 1, activation='relu')(dense1_decoder_vae)\n",
    "\n",
    "    decoder_outputs_vae = layers.Dense(features, name='decoder_outputs')(dense2_decoder_vae)\n",
    "\n",
    "    decoder_vae = keras.Model(inputs=inputs_decoder_vae,\n",
    "                            outputs=decoder_outputs_vae,\n",
    "                            name='attention_VAE_decoder')\n",
    "\n",
    "    attention_vae = VAE(encoder_vae, decoder_vae)\n",
    "\n",
    "    def vae_loss(data, reconstruction): #y_true, y_pred\n",
    "        mu, ln_var, z = attention_vae.encoder(data)\n",
    "        reconstruction_loss = tf.reduce_mean(\n",
    "            keras.losses.mean_squared_error(data, reconstruction)\n",
    "        )\n",
    "        kl_loss = 1 + ln_var - tf.square(mu) - tf.exp(ln_var)\n",
    "        kl_loss = tf.reduce_mean(kl_loss)\n",
    "        kl_loss *= -0.5\n",
    "        total_loss = reconstruction_loss + kl_loss\n",
    "        return total_loss\n",
    "\n",
    "    attention_vae.compile(loss=vae_loss, optimizer=keras.optimizers.Adam(learning_rate=0.001, clipnorm=1))\n",
    "\n",
    "    return attention_vae\n",
    "    \n",
    "    "
   ]
  },
  {
   "cell_type": "markdown",
   "id": "8d83b576-2b25-448a-9529-32f8cf3a8938",
   "metadata": {},
   "source": [
    "## We define two callbacks. Early stopping and reduced learning rate. Reduced learning rate allows us to reduce the learning rate if the validation loss isn't changing for 5 epochs early stopping stops the training of the model if the validation loss doesn't improve for 10 epochs. The best weights are saved."
   ]
  },
  {
   "cell_type": "code",
   "execution_count": 27,
   "id": "d408b86f-8b5c-40b8-a6f5-dfa128dd5863",
   "metadata": {},
   "outputs": [],
   "source": [
    "early_stopping_callback_hyperopt = tf.keras.callbacks.EarlyStopping(\n",
    "    monitor=\"val_loss\",\n",
    "    patience=10,\n",
    "    restore_best_weights=True,\n",
    ")\n",
    "\n",
    "\n",
    "reduce_lr_calllback = tf.keras.callbacks.ReduceLROnPlateau(\n",
    "    monitor='val_loss',\n",
    "    factor=0.15,\n",
    "    patience=5,\n",
    "    verbose=0,\n",
    "    mode='auto',\n",
    "    min_delta=0.0001,\n",
    "    cooldown=0,\n",
    "    min_lr=0\n",
    ")"
   ]
  },
  {
   "cell_type": "code",
   "execution_count": 28,
   "id": "3d79e721-7a24-4342-b9e7-54c745ec15db",
   "metadata": {},
   "outputs": [
    {
     "name": "stderr",
     "output_type": "stream",
     "text": [
      "2022-11-11 16:03:48.547764: I tensorflow/stream_executor/cuda/cuda_gpu_executor.cc:980] successful NUMA node read from SysFS had negative value (-1), but there must be at least one NUMA node, so returning NUMA node zero\n",
      "2022-11-11 16:03:48.557816: I tensorflow/stream_executor/cuda/cuda_gpu_executor.cc:980] successful NUMA node read from SysFS had negative value (-1), but there must be at least one NUMA node, so returning NUMA node zero\n",
      "2022-11-11 16:03:48.558559: I tensorflow/stream_executor/cuda/cuda_gpu_executor.cc:980] successful NUMA node read from SysFS had negative value (-1), but there must be at least one NUMA node, so returning NUMA node zero\n",
      "2022-11-11 16:03:48.559846: I tensorflow/core/platform/cpu_feature_guard.cc:193] This TensorFlow binary is optimized with oneAPI Deep Neural Network Library (oneDNN) to use the following CPU instructions in performance-critical operations:  AVX2 AVX512F FMA\n",
      "To enable them in other operations, rebuild TensorFlow with the appropriate compiler flags.\n",
      "2022-11-11 16:03:48.560343: I tensorflow/stream_executor/cuda/cuda_gpu_executor.cc:980] successful NUMA node read from SysFS had negative value (-1), but there must be at least one NUMA node, so returning NUMA node zero\n",
      "2022-11-11 16:03:48.561009: I tensorflow/stream_executor/cuda/cuda_gpu_executor.cc:980] successful NUMA node read from SysFS had negative value (-1), but there must be at least one NUMA node, so returning NUMA node zero\n",
      "2022-11-11 16:03:48.561641: I tensorflow/stream_executor/cuda/cuda_gpu_executor.cc:980] successful NUMA node read from SysFS had negative value (-1), but there must be at least one NUMA node, so returning NUMA node zero\n",
      "2022-11-11 16:03:49.246765: I tensorflow/stream_executor/cuda/cuda_gpu_executor.cc:980] successful NUMA node read from SysFS had negative value (-1), but there must be at least one NUMA node, so returning NUMA node zero\n",
      "2022-11-11 16:03:49.247539: I tensorflow/stream_executor/cuda/cuda_gpu_executor.cc:980] successful NUMA node read from SysFS had negative value (-1), but there must be at least one NUMA node, so returning NUMA node zero\n",
      "2022-11-11 16:03:49.248196: I tensorflow/stream_executor/cuda/cuda_gpu_executor.cc:980] successful NUMA node read from SysFS had negative value (-1), but there must be at least one NUMA node, so returning NUMA node zero\n",
      "2022-11-11 16:03:49.248804: I tensorflow/core/common_runtime/gpu/gpu_device.cc:1616] Created device /job:localhost/replica:0/task:0/device:GPU:0 with 13783 MB memory:  -> device: 0, name: Tesla T4, pci bus id: 0000:00:04.0, compute capability: 7.5\n"
     ]
    }
   ],
   "source": [
    "attention_vae = attention_vae(latent_dim = features - 4,\n",
    "                 input_shape = input_shape, \n",
    "                 head_size = 256,\n",
    "                 num_heads = 8,\n",
    "                 ff_dim = 4,\n",
    "                 num_transformer_blocks = 8)"
   ]
  },
  {
   "cell_type": "code",
   "execution_count": 29,
   "id": "c47e0ca1-5622-4967-89ff-5397afc9cb6e",
   "metadata": {},
   "outputs": [
    {
     "name": "stdout",
     "output_type": "stream",
     "text": [
      "Epoch 1/2000\n"
     ]
    },
    {
     "name": "stderr",
     "output_type": "stream",
     "text": [
      "2022-11-11 16:04:15.745427: I tensorflow/stream_executor/cuda/cuda_dnn.cc:384] Loaded cuDNN version 8204\n",
      "2022-11-11 16:04:16.412932: I tensorflow/core/platform/default/subprocess.cc:304] Start cannot spawn child process: No such file or directory\n",
      "2022-11-11 16:04:16.413711: I tensorflow/core/platform/default/subprocess.cc:304] Start cannot spawn child process: No such file or directory\n",
      "2022-11-11 16:04:16.413789: W tensorflow/stream_executor/gpu/asm_compiler.cc:80] Couldn't get ptxas version string: INTERNAL: Couldn't invoke ptxas --version\n",
      "2022-11-11 16:04:16.414563: I tensorflow/core/platform/default/subprocess.cc:304] Start cannot spawn child process: No such file or directory\n",
      "2022-11-11 16:04:16.414691: W tensorflow/stream_executor/gpu/redzone_allocator.cc:314] INTERNAL: Failed to launch ptxas\n",
      "Relying on driver to perform ptx compilation. \n",
      "Modify $PATH to customize ptxas location.\n",
      "This message will be only logged once.\n"
     ]
    },
    {
     "name": "stdout",
     "output_type": "stream",
     "text": [
      "1047/1047 [==============================] - 107s 79ms/step - total_loss: 1.0503 - reconstruction_loss: 1.0393 - kl_loss: 0.0110 - val_loss: 0.8998 - lr: 0.0010\n",
      "Epoch 2/2000\n",
      "1047/1047 [==============================] - 80s 76ms/step - total_loss: 1.0349 - reconstruction_loss: 1.0347 - kl_loss: 2.2396e-04 - val_loss: 0.8979 - lr: 0.0010\n",
      "Epoch 3/2000\n",
      "1047/1047 [==============================] - 79s 76ms/step - total_loss: 1.0351 - reconstruction_loss: 1.0351 - kl_loss: 4.5099e-05 - val_loss: 0.8952 - lr: 0.0010\n",
      "Epoch 4/2000\n",
      "1047/1047 [==============================] - 80s 77ms/step - total_loss: 1.0350 - reconstruction_loss: 1.0349 - kl_loss: 3.6181e-05 - val_loss: 0.8930 - lr: 0.0010\n",
      "Epoch 5/2000\n",
      "1047/1047 [==============================] - 80s 77ms/step - total_loss: 1.0343 - reconstruction_loss: 1.0343 - kl_loss: 5.9627e-06 - val_loss: 0.9006 - lr: 0.0010\n",
      "Epoch 6/2000\n",
      "1047/1047 [==============================] - 80s 77ms/step - total_loss: 1.0343 - reconstruction_loss: 1.0343 - kl_loss: 2.3863e-06 - val_loss: 0.8954 - lr: 0.0010\n",
      "Epoch 7/2000\n",
      "1047/1047 [==============================] - 80s 76ms/step - total_loss: 1.0348 - reconstruction_loss: 1.0348 - kl_loss: 2.7152e-08 - val_loss: 0.8981 - lr: 0.0010\n",
      "Epoch 8/2000\n",
      "1047/1047 [==============================] - 79s 76ms/step - total_loss: 1.0346 - reconstruction_loss: 1.0346 - kl_loss: 6.0253e-05 - val_loss: 0.8937 - lr: 0.0010\n",
      "Epoch 9/2000\n",
      "1047/1047 [==============================] - 79s 75ms/step - total_loss: 1.0344 - reconstruction_loss: 1.0344 - kl_loss: 2.4840e-08 - val_loss: 0.8934 - lr: 0.0010\n",
      "Epoch 10/2000\n",
      "1047/1047 [==============================] - 80s 76ms/step - total_loss: 1.0344 - reconstruction_loss: 1.0344 - kl_loss: -1.3491e-08 - val_loss: 0.8969 - lr: 1.5000e-04\n",
      "Epoch 11/2000\n",
      "1047/1047 [==============================] - 80s 76ms/step - total_loss: 1.0342 - reconstruction_loss: 1.0342 - kl_loss: -1.3614e-08 - val_loss: 0.8955 - lr: 1.5000e-04\n",
      "Epoch 12/2000\n",
      "1047/1047 [==============================] - 79s 76ms/step - total_loss: 1.0345 - reconstruction_loss: 1.0345 - kl_loss: 2.6107e-06 - val_loss: 0.8949 - lr: 1.5000e-04\n",
      "Epoch 13/2000\n",
      "1047/1047 [==============================] - 79s 75ms/step - total_loss: 1.0345 - reconstruction_loss: 1.0345 - kl_loss: 1.6921e-06 - val_loss: 0.8964 - lr: 1.5000e-04\n",
      "Epoch 14/2000\n",
      "1047/1047 [==============================] - 79s 76ms/step - total_loss: 1.0344 - reconstruction_loss: 1.0344 - kl_loss: 9.9287e-06 - val_loss: 0.8952 - lr: 1.5000e-04\n"
     ]
    }
   ],
   "source": [
    "hist = attention_vae.fit(x_train_seq, x_train_seq,\n",
    "                  epochs = 2000,\n",
    "                  batch_size = 128,\n",
    "                  validation_split = 0.15,\n",
    "                  callbacks = [early_stopping_callback_hyperopt, reduce_lr_calllback])"
   ]
  },
  {
   "cell_type": "code",
   "execution_count": 66,
   "id": "0cac84c2-5b85-498a-ac75-e596cc515872",
   "metadata": {},
   "outputs": [
    {
     "data": {
      "text/plain": [
       "<matplotlib.legend.Legend at 0x7f737f0df370>"
      ]
     },
     "execution_count": 66,
     "metadata": {},
     "output_type": "execute_result"
    },
    {
     "data": {
      "image/png": "[encoded data removed]",
      "text/plain": [
       "<Figure size 640x480 with 1 Axes>"
      ]
     },
     "metadata": {},
     "output_type": "display_data"
    }
   ],
   "source": [
    "plt.plot(hist.history['total_loss'])\n",
    "plt.plot(hist.history['val_loss'])\n",
    "plt.xlabel('epochs')\n",
    "plt.ylabel('metrics')\n",
    "plt.legend(['training_loss', 'val_loss'], loc='upper left')"
   ]
  },
  {
   "cell_type": "markdown",
   "id": "6e4e29a8-8d7c-4231-be34-d12d6aef4d94",
   "metadata": {},
   "source": [
    "## The output of the model is simply the attempted reconstuction of the input data. The threshold is defined as the 75% quatile of the training loss. This threshold will help us to compute predictions."
   ]
  },
  {
   "cell_type": "code",
   "execution_count": 31,
   "id": "2ab0657d-bfe0-4110-910a-e5a255829e35",
   "metadata": {},
   "outputs": [
    {
     "name": "stdout",
     "output_type": "stream",
     "text": [
      "4925/4925 [==============================] - 74s 15ms/step\n"
     ]
    }
   ],
   "source": [
    "train_reconstructions = attention_vae.predict(x_train_seq)\n",
    "train_loss = keras.losses.mean_squared_error(x_train_seq, train_reconstructions)\n",
    "threshold = np.quantile(train_loss, 0.75)"
   ]
  },
  {
   "cell_type": "markdown",
   "id": "b98b5233-4e23-4e44-b52a-b465d54531a6",
   "metadata": {},
   "source": [
    "## To get predictions, we compute the loss of the data with the reconstruction(output of the model). If the loss is greater than the threshold, then the model hasn't reconstructed the input very well. Since our training data is comprised of only non-attack data, the reconstructions should be less than the threshold, if the input is non-attack data.\n",
    "\n",
    "## So, if the loss is greater than the threshold, the input data must correspond to attack data. Else, it must correspond to non-attack data."
   ]
  },
  {
   "cell_type": "code",
   "execution_count": 32,
   "id": "ecb75b37-f0c7-4dd3-aefe-12e58800b3ad",
   "metadata": {},
   "outputs": [],
   "source": [
    "def predict(data, reconstructions, threshold):\n",
    "    loss = tf.keras.losses.mean_squared_error(data, reconstructions)\n",
    "    return ~tf.math.less(loss, threshold)"
   ]
  },
  {
   "cell_type": "code",
   "execution_count": 33,
   "id": "6fb90729-8ae9-4007-b4fa-56aa56552ca9",
   "metadata": {},
   "outputs": [],
   "source": [
    "train_predictions = predict(x_train_seq, train_reconstructions, threshold)"
   ]
  },
  {
   "cell_type": "markdown",
   "id": "ced24a26-f9bc-4ce3-a872-24192ddcbcec",
   "metadata": {},
   "source": [
    "## Since the predictions are of the same dimensions as of the input, we must convert them into (n * 1) dimension. We do this using numpy strided techniques."
   ]
  },
  {
   "cell_type": "code",
   "execution_count": 34,
   "id": "78dd117a-911d-4a58-b619-13f1fb4c747a",
   "metadata": {},
   "outputs": [],
   "source": [
    "strided_train_predictions = np.lib.stride_tricks.as_strided(train_predictions, shape=(train_predictions.shape[0],1), strides=np.array(train_predictions).strides)"
   ]
  },
  {
   "cell_type": "markdown",
   "id": "4d23c243-b1fe-4c32-a527-8a11668d8ad3",
   "metadata": {},
   "source": [
    "## Result analysis"
   ]
  },
  {
   "cell_type": "code",
   "execution_count": 35,
   "id": "c52fb52f-47bc-4843-b247-c445116c2dce",
   "metadata": {},
   "outputs": [],
   "source": [
    "def show_results(model, x, labels, data_name, threshold, sequence = False, window = 4):\n",
    "    \n",
    "    if not sequence:\n",
    "        data_seq = sequencify(x, window)\n",
    "        reconstructions = model.predict(data_seq)\n",
    "        sequencified_labels = labels[window-1:].reshape(-1,1)\n",
    "        predictions = predict(data_seq, reconstructions, threshold)\n",
    "        strided_predictions = np.lib.stride_tricks.as_strided(predictions, shape=(predictions.shape[0],1), strides=np.array(predictions).strides)\n",
    "    else:\n",
    "        reconstructions = model.predict(x)\n",
    "        sequencified_labels = labels\n",
    "        predictions = predict(x, reconstructions, threshold)\n",
    "        strided_predictions = np.lib.stride_tricks.as_strided(predictions, shape=(predictions.shape[0],1), strides=np.array(predictions).strides)\n",
    "\n",
    "    print(\"----------------------------\")\n",
    "    print(f\"{data_name}ing Result\")\n",
    "    print(\"----------------------------\")\n",
    "    print(\"Accuracy = {}\".format(accuracy_score(sequencified_labels, strided_predictions)))\n",
    "    print(\"Precision = {}\".format(precision_score(sequencified_labels, strided_predictions, zero_division=0)))\n",
    "    print(\"Recall = {}\".format(recall_score(sequencified_labels, strided_predictions, zero_division=0)))\n",
    "    print(\"F1 = {}\".format(f1_score(sequencified_labels, strided_predictions, zero_division=0)))\n",
    "\n",
    "    \n",
    "    cf = confusion_matrix(sequencified_labels,strided_predictions)\n",
    "    ax = sns.heatmap(cf, annot=True, cmap='Blues')\n",
    "    ax.set_title('Seaborn Confusion Matrix with labels\\n\\n');\n",
    "    ax.set_xlabel('\\nPredicted Values')\n",
    "    ax.set_ylabel('Actual Values ');\n",
    "    ## Ticket labels - List must be in alphabetical order\n",
    "    ax.xaxis.set_ticklabels(['False','True'])\n",
    "    ax.yaxis.set_ticklabels(['False','True'])\n",
    "        "
   ]
  },
  {
   "cell_type": "code",
   "execution_count": 36,
   "id": "6b192632-8138-488d-82a1-7f8c2c63c655",
   "metadata": {},
   "outputs": [
    {
     "name": "stdout",
     "output_type": "stream",
     "text": [
      "4925/4925 [==============================] - 72s 15ms/step\n",
      "----------------------------\n",
      "Training Result\n",
      "----------------------------\n",
      "Accuracy = 0.7498429339307132\n",
      "Precision = 0.0\n",
      "Recall = 0.0\n",
      "F1 = 0.0\n"
     ]
    },
    {
     "data": {
      "image/png": "[encoded data removed]",
      "text/plain": [
       "<Figure size 640x480 with 2 Axes>"
      ]
     },
     "metadata": {},
     "output_type": "display_data"
    }
   ],
   "source": [
    "show_results(attention_vae, x_train_seq, y_train_seq, \"Train\", threshold, sequence = True, window = seq_size)"
   ]
  },
  {
   "cell_type": "code",
   "execution_count": 72,
   "id": "26907456-2850-41e9-911c-6b10c4a78d19",
   "metadata": {},
   "outputs": [
    {
     "name": "stdout",
     "output_type": "stream",
     "text": [
      "5 attacks were detected out of 0\n",
      "Attacks detected during these times:[(10118, 26321), (29187, 29924), (128907, 132290), (137268, 152063), (153280, 157576)]\n",
      "Attacks are actually during these times:[]\n"
     ]
    },
    {
     "data": {
      "image/png": "[encoded data removed]",
      "text/plain": [
       "<Figure size 640x480 with 1 Axes>"
      ]
     },
     "metadata": {},
     "output_type": "display_data"
    }
   ],
   "source": [
    "function(y_train_seq, strided_train_predictions)"
   ]
  },
  {
   "cell_type": "markdown",
   "id": "7eead79c-6cf2-4e03-a6b3-6ddc7014ee69",
   "metadata": {},
   "source": [
    "## We dont have any False Positives, but we have some False Negatives, which means the model is unable to detect a few attacks."
   ]
  },
  {
   "cell_type": "code",
   "execution_count": 37,
   "id": "87762566-6cda-46f9-920e-87c3c7ff4c8a",
   "metadata": {},
   "outputs": [
    {
     "name": "stdout",
     "output_type": "stream",
     "text": [
      "61/61 [==============================] - 1s 16ms/step\n",
      "----------------------------\n",
      "Testing Result\n",
      "----------------------------\n",
      "Accuracy = 0.8465140478668054\n",
      "Precision = 1.0\n",
      "Recall = 0.6952479338842975\n",
      "F1 = 0.8202315661182206\n"
     ]
    },
    {
     "data": {
      "image/png": "[encoded data removed]",
      "text/plain": [
       "<Figure size 640x480 with 2 Axes>"
      ]
     },
     "metadata": {},
     "output_type": "display_data"
    }
   ],
   "source": [
    "show_results(attention_vae, x_test_seq, y_test_seq, \"Test\", threshold, sequence = True, window = seq_size)"
   ]
  },
  {
   "cell_type": "code",
   "execution_count": 50,
   "id": "5df91f62-1f27-400b-b881-8e24e0456043",
   "metadata": {},
   "outputs": [
    {
     "name": "stdout",
     "output_type": "stream",
     "text": [
      "61/61 [==============================] - 1s 15ms/step\n"
     ]
    }
   ],
   "source": [
    "test_reconstructions = attention_vae.predict(x_test_seq)\n",
    "test_predictions = predict(x_test_seq, test_reconstructions, threshold)\n",
    "strided_test_predictions = np.lib.stride_tricks.as_strided(test_predictions, shape=(test_predictions.shape[0],1), strides=np.array(test_predictions).strides)"
   ]
  },
  {
   "cell_type": "code",
   "execution_count": 73,
   "id": "fbe03433-e11a-4b09-a653-0113c7b242cf",
   "metadata": {},
   "outputs": [
    {
     "name": "stdout",
     "output_type": "stream",
     "text": [
      "4 attacks were detected out of 1\n",
      "Attacks detected during these times:[(1176, 1211), (1239, 1587), (1615, 1706), (1726, 1921)]\n",
      "Attacks are actually during these times:[(954, 1921)]\n"
     ]
    },
    {
     "data": {
      "image/png": "[encoded data removed]",
      "text/plain": [
       "<Figure size 640x480 with 1 Axes>"
      ]
     },
     "metadata": {},
     "output_type": "display_data"
    }
   ],
   "source": [
    "function(y_test_seq, strided_test_predictions)"
   ]
  },
  {
   "cell_type": "code",
   "execution_count": null,
   "id": "50a96f6a-7419-4778-8462-a7a2cf05b2ad",
   "metadata": {},
   "outputs": [],
   "source": []
  }
 ],
 "metadata": {
  "kernelspec": {
   "display_name": "Python 3 (ipykernel)",
   "language": "python",
   "name": "python3"
  },
  "language_info": {
   "codemirror_mode": {
    "name": "ipython",
    "version": 3
   },
   "file_extension": ".py",
   "mimetype": "text/x-python",
   "name": "python",
   "nbconvert_exporter": "python",
   "pygments_lexer": "ipython3",
   "version": "3.8.10"
  }
 },
 "nbformat": 4,
 "nbformat_minor": 5
}
